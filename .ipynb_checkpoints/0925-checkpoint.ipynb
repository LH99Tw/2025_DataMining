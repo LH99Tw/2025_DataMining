{
 "cells": [
  {
   "cell_type": "code",
   "execution_count": 6,
   "id": "4c7f43f1-3f5a-476f-91ac-201de4c0613b",
   "metadata": {},
   "outputs": [
    {
     "ename": "IndentationError",
     "evalue": "expected an indented block after 'for' statement on line 9 (6153576.py, line 10)",
     "output_type": "error",
     "traceback": [
      "\u001b[0;36m  Cell \u001b[0;32mIn[6], line 10\u001b[0;36m\u001b[0m\n\u001b[0;31m    p.mkdir(parents=True, exist_ok=True)\u001b[0m\n\u001b[0m    ^\u001b[0m\n\u001b[0;31mIndentationError\u001b[0m\u001b[0;31m:\u001b[0m expected an indented block after 'for' statement on line 9\n"
     ]
    }
   ],
   "source": [
    "# 목적: 프로젝트 루트 고정 + 폴더 보장\n",
    "# 입출력: 폴더 생성(project/data/raw 등)\n",
    "# 주의: 경로는 본인 PC에 맞게 수정 가능\n",
    "from pathlib import Path\n",
    "ROOT = Path(r\"/workspace/DataM\").resolve()\n",
    "RAW = ROOT/\"data\"/\"raw\"; PROC = ROOT/\"data\"/\"processed\"\n",
    "RPT = ROOT/\"reports\"; FIG = RPT/\"figures\"\n",
    "EXP = ROOT/\"experiments\"; LOGS = ROOT/\"logs\"\n",
    "    for p in [RAW, PROC, RPT, FIG, EXP, LOGS]:\n",
    "p.mkdir(parents=True, exist_ok=True)\n",
    "print(\"ROOT=\", ROOT)"
   ]
  },
  {
   "cell_type": "code",
   "execution_count": 5,
   "id": "5050d307-89a6-4a90-a5c3-874b55760326",
   "metadata": {},
   "outputs": [
    {
     "name": "stdout",
     "output_type": "stream",
     "text": [
      "ROOT = /workspace/DataM\n"
     ]
    }
   ],
   "source": [
    "# 목적: 현재 노트북 폴더를 프로젝트 ROOT로 사용\n",
    "from pathlib import Path\n",
    "ROOT = Path.cwd().resolve()   # = 지금 노트북이 열린 폴더\n",
    "RAW  = ROOT/\"data\"/\"raw\"; PROC = ROOT/\"data\"/\"processed\"\n",
    "RPT  = ROOT/\"reports\"; FIG = RPT/\"figures\"\n",
    "EXP  = ROOT/\"experiments\"; LOGS = ROOT/\"logs\"\n",
    "\n",
    "for p in [RAW, PROC, RPT, FIG, EXP, LOGS]:\n",
    "    p.mkdir(parents=True, exist_ok=True)   # ← 들여쓰기 필수!\n",
    "\n",
    "print(\"ROOT =\", ROOT)\n"
   ]
  },
  {
   "cell_type": "code",
   "execution_count": null,
   "id": "c7173271-864e-4cfc-b89b-f5429ac1badd",
   "metadata": {},
   "outputs": [],
   "source": []
  }
 ],
 "metadata": {
  "kernelspec": {
   "display_name": "Python 3 (ipykernel)",
   "language": "python",
   "name": "python3"
  },
  "language_info": {
   "codemirror_mode": {
    "name": "ipython",
    "version": 3
   },
   "file_extension": ".py",
   "mimetype": "text/x-python",
   "name": "python",
   "nbconvert_exporter": "python",
   "pygments_lexer": "ipython3",
   "version": "3.10.13"
  }
 },
 "nbformat": 4,
 "nbformat_minor": 5
}
