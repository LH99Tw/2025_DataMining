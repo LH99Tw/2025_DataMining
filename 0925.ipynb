{
 "cells": [
  {
   "cell_type": "code",
   "execution_count": 8,
   "id": "4c7f43f1-3f5a-476f-91ac-201de4c0613b",
   "metadata": {},
   "outputs": [
    {
     "name": "stdout",
     "output_type": "stream",
     "text": [
      "ROOT = /workspace/DataM\n"
     ]
    }
   ],
   "source": [
    "# 목적: 프로젝트 루트 고정 + 폴더 보장\n",
    "# 입출력: 폴더 생성(project/data/raw 등)\n",
    "# 주의: 경로는 본인 환경에 맞게 ROOT만 바꾸면 됨\n",
    "from pathlib import Path\n",
    "\n",
    "ROOT = Path(r\"/workspace/DataM\").resolve()  # ← 원하는 절대경로\n",
    "RAW  = ROOT/\"data\"/\"raw\";      PROC = ROOT/\"data\"/\"processed\"\n",
    "RPT  = ROOT/\"reports\";         FIG  = RPT/\"figures\"\n",
    "EXP  = ROOT/\"experiments\";     LOGS = ROOT/\"logs\"\n",
    "\n",
    "for p in [RAW, PROC, RPT, FIG, EXP, LOGS]:\n",
    "    p.mkdir(parents=True, exist_ok=True)   # ← 들여쓰기 필수!\n",
    "\n",
    "print(\"ROOT =\", ROOT)\n"
   ]
  },
  {
   "cell_type": "code",
   "execution_count": 9,
   "id": "c7173271-864e-4cfc-b89b-f5429ac1badd",
   "metadata": {},
   "outputs": [
    {
     "name": "stderr",
     "output_type": "stream",
     "text": [
      "\u001b[33mWARNING: Running pip as the 'root' user can result in broken permissions and conflicting behaviour with the system package manager. It is recommended to use a virtual environment instead: https://pip.pypa.io/warnings/venv\u001b[0m\u001b[33m\n",
      "\u001b[0m"
     ]
    },
    {
     "name": "stdout",
     "output_type": "stream",
     "text": [
      "NumPy 1.26.3 Pandas 2.2.3 Sklearn 1.6.1 Matplotlib 3.10.6\n"
     ]
    }
   ],
   "source": [
    "# 목적: MRE에 필요한 최소 패키지 설치 확인\n",
    "# 입출력: 없음(설치 로그), 버전 프린트\n",
    "# 주의: 노트북 커널이 conda env(cnidium-ssp)인지 확인\n",
    "import sys, subprocess\n",
    "pkgs = [\"numpy\", \"pandas\", \"scikit-learn\", \"matplotlib\"]\n",
    "subprocess.run([sys.executable, \"-m\", \"pip\", \"install\", *pkgs, \"-q\"]) # 조용히 설치\n",
    "import numpy as np, pandas as pd, sklearn, matplotlib\n",
    "print(\"NumPy\", np.__version__, \"Pandas\", pd.__version__, \"Sklearn\", sklearn.__version__, \"Matplotlib\", matplotlib.__version__)"
   ]
  },
  {
   "cell_type": "code",
   "execution_count": 13,
   "id": "7c5545b5-66f8-4d90-a827-589d0c02d5f2",
   "metadata": {},
   "outputs": [
    {
     "name": "stdout",
     "output_type": "stream",
     "text": [
      "{'target': 'Leaf_TPC', 'n_samples': 135, 'n_features': 19, 'cv': 'KFold(n_splits=5, shuffle=True, random_state=42)', 'metrics': {'MAE_mean': 0.5573793397507052, 'MAE_std': 0.04497281463008568, 'MSE_mean': 0.38196725768321516, 'MSE_std': 0.058693079020913703, 'R2_mean': 0.20440509362505335, 'R2_std': 0.04596065559560122}}\n",
      "Saved -> /workspace/DataM/experiments/exp_20250924_mre/metrics.json\n"
     ]
    }
   ],
   "source": [
    "# 목적: Leaf_TPC 5-Fold CV 실행 → metrics.json 저장\n",
    "# 입출력: RAW 첫 CSV -> experiments/exp_20250924_mre/metrics.json\n",
    "# 주의: 전처리(월→sin/cos, 스케일)는 Pipeline 내부. seed=42\n",
    "\n",
    "import json\n",
    "import numpy as np\n",
    "import pandas as pd\n",
    "from pathlib import Path\n",
    "from sklearn.model_selection import KFold, cross_validate\n",
    "from sklearn.preprocessing import StandardScaler, FunctionTransformer\n",
    "from sklearn.compose import ColumnTransformer\n",
    "from sklearn.pipeline import Pipeline\n",
    "from sklearn.linear_model import ElasticNet\n",
    "\n",
    "SEED = 42\n",
    "\n",
    "# 경로 가드(이전 셀에서 RAW/EXP를 안 만들었어도 동작)\n",
    "try:\n",
    "    RAW, EXP\n",
    "except NameError:\n",
    "    ROOT = Path.cwd().resolve()\n",
    "    RAW  = ROOT / \"data\" / \"raw\"\n",
    "    EXP  = ROOT / \"experiments\"\n",
    "\n",
    "csvs = sorted(RAW.glob(\"*.csv\"))\n",
    "assert csvs, f\"No CSV in {RAW}\"\n",
    "\n",
    "try:\n",
    "    df = pd.read_csv(csvs[0], encoding=\"utf-8-sig\")\n",
    "except UnicodeDecodeError:\n",
    "    df = pd.read_csv(csvs[0], encoding=\"cp949\")\n",
    "\n",
    "num_cand = [\n",
    "    \"CO2ppm\",\"Temp\",\"Humid\",\"VPD\",\"Chl_a\",\"Chl_b\",\"TChl\",\"Car\",\n",
    "    \"ABS-RC\",\"Dio-RC\",\"Tro-RC\",\"Eto-RC\",\"PI_abs\",\"DF_abs\",\"SFI_abs\",\"Fv-Fm\",\n",
    "    \"Leaf_ExtractionYield\",\"Root_ExtractionYield\"\n",
    "]\n",
    "num_cols = [c for c in num_cand if c in df.columns]\n",
    "\n",
    "if \"month\" not in df.columns:\n",
    "    df[\"month\"] = 1\n",
    "\n",
    "target = \"Leaf_TPC\" if \"Leaf_TPC\" in df.columns else df.columns[-1]\n",
    "X = df[[\"month\"] + num_cols].copy()\n",
    "y = df[target].copy()\n",
    "\n",
    "month_cycle = FunctionTransformer(lambda X: np.c_[\n",
    "    np.sin(2*np.pi*(X.values[:, 0] / 12.0)),\n",
    "    np.cos(2*np.pi*(X.values[:, 0] / 12.0))\n",
    "])\n",
    "\n",
    "trans = [(\"month_cycle\", month_cycle, [\"month\"])]\n",
    "if num_cols:\n",
    "    trans.append((\"scale\", StandardScaler(), num_cols))\n",
    "\n",
    "prep = ColumnTransformer(trans, remainder=\"drop\")\n",
    "pipe = Pipeline([(\"prep\", prep), (\"model\", ElasticNet(random_state=SEED))])\n",
    "\n",
    "cv = KFold(n_splits=5, shuffle=True, random_state=SEED)\n",
    "scoring = {\"MAE\": \"neg_mean_absolute_error\", \"MSE\": \"neg_mean_squared_error\", \"R2\": \"r2\"}\n",
    "res = cross_validate(pipe, X, y, cv=cv, scoring=scoring, return_train_score=False)\n",
    "\n",
    "def mstd(a):\n",
    "    a = np.asarray(a)\n",
    "    return float(a.mean()), float(a.std())\n",
    "\n",
    "mae_m, mae_s = mstd(-res[\"test_MAE\"])\n",
    "mse_m, mse_s = mstd(-res[\"test_MSE\"])\n",
    "r2_m,  r2_s  = mstd( res[\"test_R2\"])\n",
    "\n",
    "out = {\n",
    "    \"target\": target,\n",
    "    \"n_samples\": int(len(df)),\n",
    "    \"n_features\": int(X.shape[1]),\n",
    "    \"cv\": \"KFold(n_splits=5, shuffle=True, random_state=42)\",\n",
    "    \"metrics\": {\n",
    "        \"MAE_mean\": mae_m, \"MAE_std\": mae_s,\n",
    "        \"MSE_mean\": mse_m, \"MSE_std\": mse_s,\n",
    "        \"R2_mean\":  r2_m,  \"R2_std\":  r2_s\n",
    "    }\n",
    "}\n",
    "\n",
    "exp_dir = EXP / \"exp_20250924_mre\"\n",
    "exp_dir.mkdir(parents=True, exist_ok=True)\n",
    "(exp_dir / \"metrics.json\").write_text(json.dumps(out, ensure_ascii=False, indent=2), encoding=\"utf-8-sig\")\n",
    "\n",
    "print(out)\n",
    "print(\"Saved ->\", exp_dir / \"metrics.json\")\n"
   ]
  },
  {
   "cell_type": "code",
   "execution_count": 14,
   "id": "2c4208e9-d339-4a08-8c03-7d6806b45527",
   "metadata": {},
   "outputs": [
    {
     "name": "stdout",
     "output_type": "stream",
     "text": [
      "Wrote: /workspace/DataM/logs/setup_20250924.md\n"
     ]
    }
   ],
   "source": [
    "# 목적: 오늘 환경 기록(재현성)\n",
    "from pathlib import Path\n",
    "import sys, platform, json\n",
    "\n",
    "ROOT = Path(\"/workspace/DataM\").resolve()\n",
    "LOGS = ROOT/\"logs\"; LOGS.mkdir(parents=True, exist_ok=True)\n",
    "p = LOGS/\"setup_20250924.md\"\n",
    "meta = {\"python\": sys.version, \"platform\": platform.platform(), \"seed\": 42}\n",
    "p.write_text(\"# 환경 기록 (2025-09-24)\\n\\n```\\n\"+json.dumps(meta, ensure_ascii=False, indent=2)+\"\\n```\\n\", encoding=\"utf-8-sig\")\n",
    "print(\"Wrote:\", p)\n"
   ]
  },
  {
   "cell_type": "code",
   "execution_count": null,
   "id": "ffb500ab-ba53-4020-b920-637fe7e6c5db",
   "metadata": {},
   "outputs": [
    {
     "name": "stdout",
     "output_type": "stream",
     "text": [
      "Collecting package metadata (current_repodata.json): - WARNING conda.models.version:get_matcher(556): Using .* with relational operator is superfluous and deprecated and will be removed in a future version of conda. Your spec was 1.7.1.*, but conda is ignoring the .* and treating it as 1.7.1\n",
      "done\n",
      "Solving environment: / "
     ]
    }
   ],
   "source": [
    "# conda로 git 설치\n",
    "!conda install -y -c conda-forge git\n",
    "# 사용자 정보 설정(한 번만)\n",
    "!git config --global user.name \"Your Name\"\n",
    "!git config --global user.email \"you@example.com\"\n",
    "# 레포 초기화 & 첫 커밋\n",
    "%cd /workspace/DataM\n",
    "!git init\n",
    "!git add .\n",
    "!git commit -m \"chore: env setup + MRE pipeline (seed=42)\"\n"
   ]
  },
  {
   "cell_type": "code",
   "execution_count": null,
   "id": "55baa4d9-5e32-4fbe-b9ab-f52ffb455b26",
   "metadata": {},
   "outputs": [],
   "source": []
  }
 ],
 "metadata": {
  "kernelspec": {
   "display_name": "Python 3 (ipykernel)",
   "language": "python",
   "name": "python3"
  },
  "language_info": {
   "codemirror_mode": {
    "name": "ipython",
    "version": 3
   },
   "file_extension": ".py",
   "mimetype": "text/x-python",
   "name": "python",
   "nbconvert_exporter": "python",
   "pygments_lexer": "ipython3",
   "version": "3.10.13"
  }
 },
 "nbformat": 4,
 "nbformat_minor": 5
}
