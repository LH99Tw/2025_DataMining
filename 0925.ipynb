{
 "cells": [
  {
   "cell_type": "code",
   "execution_count": 2,
   "id": "4d70fdff-6e0b-4178-a549-02e1ce8bf8ba",
   "metadata": {},
   "outputs": [
    {
     "name": "stdout",
     "output_type": "stream",
     "text": [
      "/opt/conda/envs/cnidium-ssp/bin/python\n",
      "\n",
      "Installed kernelspec cnidium-ssp in /root/.local/share/jupyter/kernels/cnidium-ssp\n",
      "\n"
     ]
    }
   ],
   "source": [
    "# env의 파이썬 경로 확인\n",
    "!conda run -n cnidium-ssp python -c \"import sys; print(sys.executable)\"\n",
    "\n",
    "# cnidium-ssp 환경에서 ipykernel 재등록\n",
    "!conda run -n cnidium-ssp python -m ipykernel install --user --name cnidium-ssp --display-name \"Python (cnidium-ssp)\"\n"
   ]
  },
  {
   "cell_type": "code",
   "execution_count": 3,
   "id": "e2c307cf-e25b-41a5-8ea4-719f4fb60be7",
   "metadata": {},
   "outputs": [
    {
     "name": "stdout",
     "output_type": "stream",
     "text": [
      "{\n",
      " \"argv\": [\n",
      "  \"/opt/conda/envs/cnidium-ssp/bin/python\",\n",
      "  \"-m\",\n",
      "  \"ipykernel_launcher\",\n",
      "  \"-f\",\n",
      "  \"{connection_file}\"\n",
      " ],\n",
      " \"display_name\": \"Python (cnidium-ssp)\",\n",
      " \"language\": \"python\",\n",
      " \"metadata\": {\n",
      "  \"debugger\": true\n",
      " }\n",
      "}"
     ]
    }
   ],
   "source": [
    "!cat ~/.local/share/jupyter/kernels/cnidium-ssp/kernel.json\n"
   ]
  },
  {
   "cell_type": "code",
   "execution_count": 1,
   "id": "a0db2ccd-3252-4b2d-a1f8-a38f79c3c0fd",
   "metadata": {},
   "outputs": [
    {
     "name": "stdout",
     "output_type": "stream",
     "text": [
      "Kernel exe: /opt/conda/envs/cnidium-ssp/bin/python\n",
      "sys.prefix: /opt/conda/envs/cnidium-ssp\n",
      "/opt/conda/bin/python\n"
     ]
    }
   ],
   "source": [
    "import sys, platform, os\n",
    "print(\"Kernel exe:\", sys.executable)           # ← /opt/conda/envs/cnidium-ssp/bin/python\n",
    "print(\"sys.prefix:\", sys.prefix)               # ← /opt/conda/envs/cnidium-ssp\n",
    "!which python                                  # ← /opt/conda/envs/cnidium-ssp/bin/python\n"
   ]
  },
  {
   "cell_type": "code",
   "execution_count": 2,
   "id": "615b779d-80fb-4cab-97f1-84c47f8e24c6",
   "metadata": {},
   "outputs": [
    {
     "name": "stdout",
     "output_type": "stream",
     "text": [
      "Python 3.10.18\n",
      "\n",
      "Collecting package metadata (current_repodata.json): done\n",
      "Solving environment: done\n",
      "\n",
      "\n",
      "==> WARNING: A newer version of conda exists. <==\n",
      "  current version: 23.9.0\n",
      "  latest version: 25.7.0\n",
      "\n",
      "Please update conda by running\n",
      "\n",
      "    $ conda update -n base -c defaults conda\n",
      "\n",
      "Or to minimize the number of packages updated during conda update use\n",
      "\n",
      "     conda install conda=25.7.0\n",
      "\n",
      "\n",
      "\n",
      "# All requested packages already installed.\n",
      "\n",
      "Installed kernelspec cnidium-ssp in /root/.local/share/jupyter/kernels/cnidium-ssp\n",
      "\n",
      "Kernel exe: /opt/conda/envs/cnidium-ssp/bin/python\n",
      "OS: Linux-6.8.0-40-generic-x86_64-with-glibc2.35\n"
     ]
    }
   ],
   "source": [
    "# 목적: 전용 conda 커널 사용 보장 (이미 설치되어 있어도 안전)\n",
    "# 입출력: 없음(설치/등록 로그)\n",
    "# 주의: 셸 명령은 conda-run으로 env를 명시해 실행\n",
    "!conda run -n cnidium-ssp python -V || conda create -n cnidium-ssp python=3.10 -y\n",
    "!conda install -n cnidium-ssp -y numpy pandas scikit-learn matplotlib ipykernel\n",
    "!conda run -n cnidium-ssp python -m ipykernel install --user --name cnidium-ssp --display-name \"Python (cnidium-ssp)\"\n",
    "\n",
    "\n",
    "import sys, platform\n",
    "print(\"Kernel exe:\", sys.executable) # /opt/conda/envs/cnidium-ssp/bin/python 이어야 OK\n",
    "print(\"OS:\", platform.platform())"
   ]
  },
  {
   "cell_type": "code",
   "execution_count": 4,
   "id": "02ad210e-a431-4953-a258-7e74450fb49e",
   "metadata": {},
   "outputs": [
    {
     "name": "stdout",
     "output_type": "stream",
     "text": [
      "ROOT= /workspace/DataM\n"
     ]
    }
   ],
   "source": [
    "# 목적: /workspace/DataM 를 ROOT로 고정 + 표준 폴더 생성\n",
    "from pathlib import Path\n",
    "ROOT = Path(\"/workspace/DataM\").resolve()\n",
    "RAW = ROOT/\"data\"/\"raw\"; PROC = ROOT/\"data\"/\"processed\"\n",
    "RPT = ROOT/\"reports\"; FIG = RPT/\"figures\"\n",
    "EXP = ROOT/\"experiments\"; LOGS = ROOT/\"logs\"\n",
    "for p in [RAW, PROC, RPT, FIG, EXP, LOGS]:\n",
    "    p.mkdir(parents=True, exist_ok=True)\n",
    "print(\"ROOT=\", ROOT)"
   ]
  },
  {
   "cell_type": "code",
   "execution_count": 5,
   "id": "71d606b9-906f-4eb3-a9ef-7a57a7737456",
   "metadata": {},
   "outputs": [
    {
     "name": "stdout",
     "output_type": "stream",
     "text": [
      "RAW CSVs: ['3. 천궁 샘플데이터.csv']\n"
     ]
    }
   ],
   "source": [
    "# 목적: RAW에 CSV가 없으면 샘플 생성(파이프라인 점검용)\n",
    "from pathlib import Path; import pandas as pd\n",
    "RAW = Path(\"/workspace/DataM/data/raw\")\n",
    "RAW.mkdir(parents=True, exist_ok=True)\n",
    "if not list(RAW.glob(\"*.csv\")):\n",
    "    df = pd.DataFrame({\n",
    "        \"month\": [1,2,3,4,5]*27,\n",
    "        \"CO2ppm\":[400,405,410,395,402]*27,\n",
    "        \"Temp\":[20,21,19,22,20]*27,\n",
    "        \"Humid\":[60,62,58,63,59]*27,\n",
    "        \"VPD\":[1.1,1.0,1.2,1.05,1.08]*27,\n",
    "        \"Leaf_TPC\":[0.8,0.82,0.78,0.85,0.81]*27\n",
    "    })\n",
    "    fp = RAW/\"sample_0924.csv\"; df.to_csv(fp, index=False, encoding=\"utf-8-sig\"); print(\"Wrote:\", fp)\n",
    "print(\"RAW CSVs:\", [p.name for p in RAW.glob('*.csv')])"
   ]
  },
  {
   "cell_type": "code",
   "execution_count": 7,
   "id": "a47eaa28-063c-45b1-93c4-014f2ebe85f4",
   "metadata": {},
   "outputs": [
    {
     "name": "stdout",
     "output_type": "stream",
     "text": [
      "ROOT= /workspace/DataM\n"
     ]
    }
   ],
   "source": [
    "# 목적: 프로젝트 루트 고정 + 폴더 보장\n",
    "# 입출력: 폴더 생성(project/data/raw 등)\n",
    "# 주의: 경로는 본인 PC에 맞게 수정 가능\n",
    "from pathlib import Path\n",
    "ROOT = Path(r\"/workspace/DataM\").resolve()\n",
    "RAW = ROOT/\"data\"/\"raw\"; PROC = ROOT/\"data\"/\"processed\"\n",
    "RPT = ROOT/\"reports\"; FIG = RPT/\"figures\"\n",
    "EXP = ROOT/\"experiments\"; LOGS = ROOT/\"logs\"\n",
    "for p in [RAW, PROC, RPT, FIG, EXP, LOGS]:\n",
    "    p.mkdir(parents=True, exist_ok=True)\n",
    "print(\"ROOT=\", ROOT)"
   ]
  },
  {
   "cell_type": "code",
   "execution_count": 8,
   "id": "e58ed2ff-7a9e-48a5-8987-7d840b5a96bb",
   "metadata": {},
   "outputs": [
    {
     "name": "stderr",
     "output_type": "stream",
     "text": [
      "\u001b[33mWARNING: Running pip as the 'root' user can result in broken permissions and conflicting behaviour with the system package manager, possibly rendering your system unusable. It is recommended to use a virtual environment instead: https://pip.pypa.io/warnings/venv. Use the --root-user-action option if you know what you are doing and want to suppress this warning.\u001b[0m\u001b[33m\n",
      "\u001b[0m"
     ]
    },
    {
     "name": "stdout",
     "output_type": "stream",
     "text": [
      "NumPy 1.26.4 Pandas 2.3.2 Sklearn 1.7.2 Matplotlib 3.10.6\n"
     ]
    }
   ],
   "source": [
    "# 목적: MRE에 필요한 최소 패키지 설치 확인\n",
    "# 입출력: 없음(설치 로그), 버전 프린트\n",
    "# 주의: 노트북 커널이 conda env(cnidium-ssp)인지 확인\n",
    "import sys, subprocess\n",
    "pkgs = [\"numpy\", \"pandas\", \"scikit-learn\", \"matplotlib\"]\n",
    "subprocess.run([sys.executable, \"-m\", \"pip\", \"install\", *pkgs, \"-q\"]) # 조용히 설치\n",
    "import numpy as np, pandas as pd, sklearn, matplotlib\n",
    "print(\"NumPy\", np.__version__, \"Pandas\", pd.__version__, \"Sklearn\", sklearn.__version__, \"Matplotlib\", matplotlib.__version__)"
   ]
  },
  {
   "cell_type": "code",
   "execution_count": 9,
   "id": "8567ef66-d291-4149-b34b-00d88c1c06e9",
   "metadata": {},
   "outputs": [],
   "source": [
    "# 목적: joblib 임시폴더를 영문 경로로 고정(향후 병렬 실행 대비)\n",
    "# 입출력: 없음\n",
    "import os\n",
    "TMP = ROOT/\"tmp_joblib\"; TMP.mkdir(exist_ok=True)\n",
    "os.environ[\"JOBLIB_TEMP_FOLDER\"] = str(TMP)"
   ]
  },
  {
   "cell_type": "code",
   "execution_count": 12,
   "id": "90699dc4-e3d5-4ce2-8bf1-eafbebfc40c7",
   "metadata": {},
   "outputs": [
    {
     "name": "stdout",
     "output_type": "stream",
     "text": [
      "Loaded: 3. 천궁 샘플데이터.csv  rows=135  cols=25\n",
      "{'target': 'Leaf_TPC', 'n_samples': 135, 'n_features': 19, 'cv': 'KFold(n_splits=5, shuffle=True, random_state=42)', 'metrics': {'MAE_mean': 0.5573793397507052, 'MAE_std': 0.04497281463008568, 'MSE_mean': 0.38196725768321516, 'MSE_std': 0.058693079020913703, 'R2_mean': 0.20440509362505335, 'R2_std': 0.04596065559560122}}\n",
      "Saved -> /workspace/DataM/experiments/exp_20250924_mre/metrics.json\n"
     ]
    }
   ],
   "source": [
    "# 목적: Leaf_TPC 5-Fold CV 실행 → metrics.json 저장 (수정: 괄호 오타 fix)\n",
    "import json\n",
    "import numpy as np, pandas as pd\n",
    "from pathlib import Path\n",
    "from sklearn.model_selection import KFold, cross_validate\n",
    "from sklearn.preprocessing import StandardScaler, FunctionTransformer\n",
    "from sklearn.compose import ColumnTransformer\n",
    "from sklearn.pipeline import Pipeline\n",
    "from sklearn.linear_model import ElasticNet\n",
    "\n",
    "SEED = 42\n",
    "\n",
    "# 경로 가드\n",
    "try:\n",
    "    RAW, EXP\n",
    "except NameError:\n",
    "    ROOT = Path(\"/workspace/DataM\").resolve()\n",
    "    RAW  = ROOT / \"data\" / \"raw\"\n",
    "    EXP  = ROOT / \"experiments\"\n",
    "    RAW.mkdir(parents=True, exist_ok=True)\n",
    "    EXP.mkdir(parents=True, exist_ok=True)\n",
    "\n",
    "# 데이터 로드\n",
    "csvs = sorted(RAW.glob(\"*.csv\"))\n",
    "assert csvs, f\"No CSV in {RAW}\"\n",
    "src = csvs[0]\n",
    "try:\n",
    "    df = pd.read_csv(src, encoding=\"utf-8-sig\")\n",
    "except UnicodeDecodeError:\n",
    "    df = pd.read_csv(src, encoding=\"cp949\")\n",
    "print(f\"Loaded: {src.name}  rows={len(df)}  cols={len(df.columns)}\")\n",
    "\n",
    "# 특성\n",
    "num_cand = [\n",
    "    \"CO2ppm\",\"Temp\",\"Humid\",\"VPD\",\"Chl_a\",\"Chl_b\",\"TChl\",\"Car\",\n",
    "    \"ABS-RC\",\"Dio-RC\",\"Tro-RC\",\"Eto-RC\",\"PI_abs\",\"DF_abs\",\"SFI_abs\",\"Fv-Fm\",\n",
    "    \"Leaf_ExtractionYield\",\"Root_ExtractionYield\"\n",
    "]\n",
    "num_cols = [c for c in num_cand if c in df.columns]\n",
    "if \"month\" not in df.columns:\n",
    "    df[\"month\"] = 1\n",
    "\n",
    "target = \"Leaf_TPC\" if \"Leaf_TPC\" in df.columns else df.columns[-1]\n",
    "X = df[[\"month\"] + num_cols].copy()\n",
    "y = df[target].copy()\n",
    "\n",
    "# 파이프라인\n",
    "month_cycle = FunctionTransformer(\n",
    "    lambda X_: np.c_[np.sin(2*np.pi*(X_.values[:, 0]/12.0)),\n",
    "                     np.cos(2*np.pi*(X_.values[:, 0]/12.0))],\n",
    "    feature_names_out=\"one-to-one\"\n",
    ")\n",
    "trans = [(\"month_cycle\", month_cycle, [\"month\"])]\n",
    "if num_cols:\n",
    "    trans.append((\"scale\", StandardScaler(), num_cols))\n",
    "\n",
    "prep = ColumnTransformer(trans, remainder=\"drop\")\n",
    "pipe = Pipeline([(\"prep\", prep), (\"model\", ElasticNet(random_state=SEED))])\n",
    "\n",
    "# 5-Fold CV\n",
    "cv = KFold(n_splits=5, shuffle=True, random_state=SEED)\n",
    "scoring = {\"MAE\": \"neg_mean_absolute_error\", \"MSE\": \"neg_mean_squared_error\", \"R2\": \"r2\"}\n",
    "res = cross_validate(pipe, X, y, cv=cv, scoring=scoring, return_train_score=False)\n",
    "\n",
    "def mstd(a):\n",
    "    a = np.asarray(a)\n",
    "    return float(a.mean()), float(a.std())\n",
    "\n",
    "mae_m, mae_s = mstd(-res[\"test_MAE\"])\n",
    "mse_m, mse_s = mstd(-res[\"test_MSE\"])\n",
    "r2_m,  r2_s  = mstd( res[\"test_R2\"])\n",
    "\n",
    "out = {\n",
    "    \"target\": target,\n",
    "    \"n_samples\": int(len(df)),\n",
    "    \"n_features\": int(X.shape[1]),   # ← 여기 괄호 수정!\n",
    "    \"cv\": \"KFold(n_splits=5, shuffle=True, random_state=42)\",\n",
    "    \"metrics\": {\n",
    "        \"MAE_mean\": mae_m, \"MAE_std\": mae_s,\n",
    "        \"MSE_mean\": mse_m, \"MSE_std\": mse_s,\n",
    "        \"R2_mean\":  r2_m,  \"R2_std\":  r2_s\n",
    "    }\n",
    "}\n",
    "\n",
    "exp_dir = EXP / \"exp_20250924_mre\"\n",
    "exp_dir.mkdir(parents=True, exist_ok=True)\n",
    "save_path = exp_dir / \"metrics.json\"\n",
    "save_path.write_text(json.dumps(out, ensure_ascii=False, indent=2), encoding=\"utf-8-sig\")\n",
    "\n",
    "print(out)\n",
    "print(\"Saved ->\", save_path)\n"
   ]
  },
  {
   "cell_type": "code",
   "execution_count": 13,
   "id": "fa0778a9-f5e6-408a-9a46-c04c6f533f0f",
   "metadata": {},
   "outputs": [
    {
     "data": {
      "text/plain": [
       "PosixPath('/workspace/DataM/logs/setup_20250924.md')"
      ]
     },
     "execution_count": 13,
     "metadata": {},
     "output_type": "execute_result"
    }
   ],
   "source": [
    "# 목적: 오늘 환경(버전/OS/seed) 기록 → 재현성 확보\n",
    "# 입출력: logs/setup_20250924.md\n",
    "# 주의: utf-8-sig로 저장해 윈도우에서도 한글 깨짐 방지\n",
    "import sys, platform, json\n",
    "p = LOGS/\"setup_20250924.md\"\n",
    "meta = {\"python\": sys.version, \"platform\": platform.platform(), \"seed\": 42}\n",
    "p.write_text(\"# 환경 기록 (2025-09-24)\\n\\n```\\n\"+json.dumps(meta, ensure_ascii=False, indent=2)+\"\\n```\\n\", encoding=\"utf-8-sig\")\n",
    "p"
   ]
  },
  {
   "cell_type": "code",
   "execution_count": null,
   "id": "7fefb7f1-b1b5-473f-8718-04056364b9f3",
   "metadata": {},
   "outputs": [],
   "source": [
    "%cd /workspace/DataM\n",
    "\n",
    "# .gitignore 생성/갱신\n",
    "ignore = \"\"\"__pycache__/\n",
    "*.pyc\n",
    ".ipynb_checkpoints/\n",
    "data/processed/\n",
    "reports/figures/\n",
    "tmp_joblib/\n",
    ".DS_Store\n",
    "\"\"\"\n",
    "open(\".gitignore\",\"w\",encoding=\"utf-8\").write(ignore)\n",
    "\n",
    "# 이미 추적 중인 체크포인트를 인덱스에서 제거(파일은 로컬에 남음)\n",
    "!git rm -r --cached .ipynb_checkpoints 2>/dev/null || true\n",
    "\n",
    "# 변경분 스테이징/커밋\n",
    "!git add -A\n",
    "!git commit -m \"chore: update notebook & env log; add .gitignore (checkpoints/artifacts)\"\n"
   ]
  },
  {
   "cell_type": "code",
   "execution_count": null,
   "id": "9b61fe7c-ffe2-4d12-a48f-64cc0517b699",
   "metadata": {},
   "outputs": [],
   "source": []
  }
 ],
 "metadata": {
  "kernelspec": {
   "display_name": "Python (cnidium-ssp)",
   "language": "python",
   "name": "cnidium-ssp"
  },
  "language_info": {
   "codemirror_mode": {
    "name": "ipython",
    "version": 3
   },
   "file_extension": ".py",
   "mimetype": "text/x-python",
   "name": "python",
   "nbconvert_exporter": "python",
   "pygments_lexer": "ipython3",
   "version": "3.10.18"
  }
 },
 "nbformat": 4,
 "nbformat_minor": 5
}
